{
 "cells": [
  {
   "cell_type": "code",
   "execution_count": 1,
   "metadata": {},
   "outputs": [],
   "source": [
    "import os"
   ]
  },
  {
   "cell_type": "code",
   "execution_count": 4,
   "metadata": {},
   "outputs": [],
   "source": [
    "def calculate_adjacent_differences(folder_path):\n",
    "    filenames = os.listdir(folder_path)\n",
    "    numbers = []\n",
    "\n",
    "    for filename in filenames:\n",
    "        if filename.endswith(\".jpg\"):\n",
    "            number_str = filename.split(\"image\")[1].split(\".\")[0]\n",
    "            try:\n",
    "                number = int(number_str)\n",
    "                numbers.append(number)\n",
    "            except ValueError:\n",
    "                print(f\"Invalid filename format: {filename}\")\n",
    "\n",
    "    if len(numbers) < 2:\n",
    "        print(\"At least two valid image filenames are required.\")\n",
    "        return None\n",
    "\n",
    "    numbers.sort()\n",
    "    differences = []\n",
    "    for i in range(1, len(numbers)):\n",
    "        difference = numbers[i] - numbers[i-1]\n",
    "        differences.append(difference)\n",
    "\n",
    "    return differences"
   ]
  },
  {
   "cell_type": "code",
   "execution_count": 24,
   "metadata": {},
   "outputs": [
    {
     "name": "stdout",
     "output_type": "stream",
     "text": [
      "The differences between adjacent numbers are: [218, 219, 266, 25, 139, 45, 114, 54, 154, 158, 166, 164, 217, 101, 129, 1326, 296, 143, 339, 2134]\n"
     ]
    }
   ],
   "source": [
    "# 用法示例\n",
    "folder_path = \"/Users/zhourui/coding/py/venv/my/cv2/大作业/shot/frames/006\"  # 将路径替换为你要计算的文件夹的实际路径\n",
    "differences = calculate_adjacent_differences(folder_path)\n",
    "if differences is not None:\n",
    "    print(f\"The differences between adjacent numbers are: {differences}\")"
   ]
  },
  {
   "cell_type": "code",
   "execution_count": 22,
   "metadata": {},
   "outputs": [],
   "source": [
    "def rename_photos(folder_path):\n",
    "    filenames = os.listdir(folder_path)\n",
    "    filenames = sorted(filenames, key=lambda x: get_image_number(x))\n",
    "    image_count = 0\n",
    "\n",
    "    for filename in filenames:\n",
    "        if filename.endswith(\".jpg\"):\n",
    "            new_filename = f\"image{image_count}.jpg\"\n",
    "            image_count += 1\n",
    "            file_path = os.path.join(folder_path, filename)\n",
    "            new_file_path = os.path.join(folder_path, new_filename)\n",
    "            os.rename(file_path, new_file_path)\n",
    "            print(f\"Renamed {filename} to {new_filename}\")"
   ]
  },
  {
   "cell_type": "code",
   "execution_count": 11,
   "metadata": {},
   "outputs": [],
   "source": [
    "def get_image_number(filename):\n",
    "    try:\n",
    "        number_str = filename.split(\"image\")[1].split(\".\")[0]\n",
    "        return int(number_str)\n",
    "    except (IndexError, ValueError):\n",
    "        print(f\"Ignored filename: {filename}\")\n",
    "        return float('inf')  # 将无效的文件名排在最后"
   ]
  },
  {
   "cell_type": "code",
   "execution_count": 25,
   "metadata": {},
   "outputs": [
    {
     "name": "stdout",
     "output_type": "stream",
     "text": [
      "Ignored filename: .DS_Store\n",
      "Renamed image0.jpg to image0.jpg\n",
      "Renamed image218.jpg to image1.jpg\n",
      "Renamed image437.jpg to image2.jpg\n",
      "Renamed image703.jpg to image3.jpg\n",
      "Renamed image728.jpg to image4.jpg\n",
      "Renamed image867.jpg to image5.jpg\n",
      "Renamed image912.jpg to image6.jpg\n",
      "Renamed image1026.jpg to image7.jpg\n",
      "Renamed image1080.jpg to image8.jpg\n",
      "Renamed image1234.jpg to image9.jpg\n",
      "Renamed image1392.jpg to image10.jpg\n",
      "Renamed image1558.jpg to image11.jpg\n",
      "Renamed image1722.jpg to image12.jpg\n",
      "Renamed image1939.jpg to image13.jpg\n",
      "Renamed image2040.jpg to image14.jpg\n",
      "Renamed image2169.jpg to image15.jpg\n",
      "Renamed image3495.jpg to image16.jpg\n",
      "Renamed image3791.jpg to image17.jpg\n",
      "Renamed image3934.jpg to image18.jpg\n",
      "Renamed image4273.jpg to image19.jpg\n",
      "Renamed image6407.jpg to image20.jpg\n"
     ]
    }
   ],
   "source": [
    "# 用法示例\n",
    "folder_path = \"/Users/zhourui/coding/py/venv/my/cv2/大作业/shot/frames/006\"  # 将路径替换为你要重命名的文件夹的实际路径\n",
    "rename_photos(folder_path)"
   ]
  }
 ],
 "metadata": {
  "kernelspec": {
   "display_name": "secondenv",
   "language": "python",
   "name": "python3"
  },
  "language_info": {
   "codemirror_mode": {
    "name": "ipython",
    "version": 3
   },
   "file_extension": ".py",
   "mimetype": "text/x-python",
   "name": "python",
   "nbconvert_exporter": "python",
   "pygments_lexer": "ipython3",
   "version": "3.9.15"
  },
  "orig_nbformat": 4
 },
 "nbformat": 4,
 "nbformat_minor": 2
}
