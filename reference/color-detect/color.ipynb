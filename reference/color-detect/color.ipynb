{
 "cells": [
  {
   "cell_type": "code",
   "execution_count": 1,
   "metadata": {},
   "outputs": [],
   "source": [
    "from PIL import Image, ImageDraw, ImageFont\n",
    "import os"
   ]
  },
  {
   "cell_type": "code",
   "execution_count": 2,
   "metadata": {},
   "outputs": [],
   "source": [
    "def get_dominant_colors(infile):\n",
    "    image = Image.open(infile)\n",
    "    \n",
    "    # 缩小图片，否则计算机压力太大\n",
    "    small_image = image.resize((80, 80))\n",
    "    result = small_image.convert(\n",
    "        \"P\", palette=Image.ADAPTIVE, colors=10\n",
    "    )  \n",
    "\t\n",
    "\t# 10个主要颜色的图像\n",
    "\n",
    "    # 找到主要的颜色\n",
    "    palette = result.getpalette()\n",
    "    color_counts = sorted(result.getcolors(), reverse=True)\n",
    "    colors = list()\n",
    "\n",
    "    for i in range(5):\n",
    "        palette_index = color_counts[i][1]\n",
    "        dominant_color = palette[palette_index * 3 : palette_index * 3 + 3]\n",
    "        colors.append(tuple(dominant_color))\n",
    "\n",
    "    # print(colors)\n",
    "    return colors\n"
   ]
  },
  {
   "cell_type": "code",
   "execution_count": 21,
   "metadata": {},
   "outputs": [],
   "source": [
    "image_folder = r\"/Users/zhourui/coding/py/venv/my/cv2/大作业/shot/frames/006\"\n",
    "output_file = r\"006output.txt\""
   ]
  },
  {
   "cell_type": "code",
   "execution_count": 22,
   "metadata": {},
   "outputs": [],
   "source": [
    "# 获取文件夹中所有以.jpg结尾的文件\n",
    "image_files = [filename for filename in os.listdir(image_folder) if filename.endswith(\".jpg\")]\n",
    "\n",
    "# 按文件名中的数字排序\n",
    "sorted_files = sorted(image_files, key=lambda x: int(x.split(\"image\")[1].split(\".\")[0]))\n"
   ]
  },
  {
   "cell_type": "code",
   "execution_count": 23,
   "metadata": {},
   "outputs": [
    {
     "name": "stderr",
     "output_type": "stream",
     "text": [
      "/var/folders/bq/g982yw2j1t90j2xb_3kxhbh40000gn/T/ipykernel_4749/3463840563.py:7: DeprecationWarning: ADAPTIVE is deprecated and will be removed in Pillow 10 (2023-07-01). Use Palette.ADAPTIVE instead.\n",
      "  \"P\", palette=Image.ADAPTIVE, colors=10\n"
     ]
    }
   ],
   "source": [
    "# 写入结果到txt文件\n",
    "with open(output_file, \"w\") as f:\n",
    "    for filename in sorted_files:\n",
    "        image_path = os.path.join(image_folder, filename)\n",
    "        colors = get_dominant_colors(image_path)\n",
    "        f.write(f\"{filename}: {colors}\\n\")"
   ]
  }
 ],
 "metadata": {
  "kernelspec": {
   "display_name": "secondenv",
   "language": "python",
   "name": "python3"
  },
  "language_info": {
   "codemirror_mode": {
    "name": "ipython",
    "version": 3
   },
   "file_extension": ".py",
   "mimetype": "text/x-python",
   "name": "python",
   "nbconvert_exporter": "python",
   "pygments_lexer": "ipython3",
   "version": "3.9.15"
  },
  "orig_nbformat": 4
 },
 "nbformat": 4,
 "nbformat_minor": 2
}
